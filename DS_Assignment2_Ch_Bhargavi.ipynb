{
 "cells": [
  {
   "cell_type": "code",
   "execution_count": 2,
   "id": "27f75de7",
   "metadata": {},
   "outputs": [],
   "source": [
    "#Data manipulation tasks using Pandas like finding missing values,sorting,filtering,aggregating"
   ]
  },
  {
   "cell_type": "code",
   "execution_count": 3,
   "id": "79b654f8",
   "metadata": {},
   "outputs": [],
   "source": [
    "import numpy as np\n",
    "import pandas as pd"
   ]
  },
  {
   "cell_type": "code",
   "execution_count": 4,
   "id": "351beb98",
   "metadata": {},
   "outputs": [
    {
     "name": "stdout",
     "output_type": "stream",
     "text": [
      "                      Roll No. Student's Name  Jun  Jul  Aug  Sep  Oct  Nov  \\\n",
      "0   Total monthly working days            NaN   18   27   23   23   12   20   \n",
      "1                            1         Ashish   18   27   23   13   12   20   \n",
      "2                            2         Aswini   18   27   23   23   12   20   \n",
      "3                            3           Arun   18   20   23   23   12   20   \n",
      "4                            4          Bhanu   18   27   23   23   12   20   \n",
      "..                         ...            ...  ...  ...  ...  ...  ...  ...   \n",
      "56                          56         Morgan   18   27   23   15   12   13   \n",
      "57                          57          Navya   18   27   23   23   12   20   \n",
      "58                          58        Nihansh   18   27   23   23   12   20   \n",
      "59                          59        praveen   18   27   23   23   12   20   \n",
      "60                          60       poojitha   18    0   23   23   12   20   \n",
      "\n",
      "    Dec  Jan  Feb  Mar  Apr  May totalattendence  Total Working Days  \\\n",
      "0    25   26   24   24   21    2               -                 245   \n",
      "1    25   26   24   24   21    2             235                 245   \n",
      "2    25   26   24   24   21    2             245                 245   \n",
      "3    22   25   24   24   21    2             234                 245   \n",
      "4    25   13   24   24   21    2             232                 245   \n",
      "..  ...  ...  ...  ...  ...  ...             ...                 ...   \n",
      "56   25   26   24   24   21    2             230                 245   \n",
      "57   25   26   24   24   21    2             245                 245   \n",
      "58   25   26   24   24   21    2             245                 245   \n",
      "59   25   26   24   24   21    2             245                 245   \n",
      "60   25   26   24   24   21    2             218                 245   \n",
      "\n",
      "             %  \n",
      "0   100.000000  \n",
      "1    95.918367  \n",
      "2   100.000000  \n",
      "3    95.510204  \n",
      "4    94.693878  \n",
      "..         ...  \n",
      "56   93.877551  \n",
      "57  100.000000  \n",
      "58  100.000000  \n",
      "59  100.000000  \n",
      "60   88.979592  \n",
      "\n",
      "[61 rows x 17 columns]\n"
     ]
    }
   ],
   "source": [
    "import pandas as pd\n",
    "df = pd.read_excel(r'C:\\Users\\DELL\\Downloads\\attendence_of_students.xlsx')\n",
    "print(df)"
   ]
  },
  {
   "cell_type": "code",
   "execution_count": 5,
   "id": "d68df855",
   "metadata": {},
   "outputs": [
    {
     "name": "stdout",
     "output_type": "stream",
     "text": [
      "\n",
      "Missing Values:\n",
      "Roll No.              0\n",
      "Student's Name        1\n",
      "Jun                   0\n",
      "Jul                   0\n",
      "Aug                   0\n",
      "Sep                   0\n",
      "Oct                   0\n",
      "Nov                   0\n",
      "Dec                   0\n",
      "Jan                   0\n",
      "Feb                   0\n",
      "Mar                   0\n",
      "Apr                   0\n",
      "May                   0\n",
      "totalattendence       0\n",
      "Total Working Days    0\n",
      "%                     0\n",
      "dtype: int64\n"
     ]
    }
   ],
   "source": [
    "print(\"\\nMissing Values:\")#finding missing values\n",
    "print(df.isnull().sum())"
   ]
  },
  {
   "cell_type": "code",
   "execution_count": 6,
   "id": "d36d7f0f",
   "metadata": {},
   "outputs": [
    {
     "name": "stdout",
     "output_type": "stream",
     "text": [
      "\n",
      "DataFrame with filled missing values:\n",
      "                      Roll No. Student's Name  Jun  Jul  Aug  Sep  Oct  Nov  \\\n",
      "0   Total monthly working days              0   18   27   23   23   12   20   \n",
      "1                            1         Ashish   18   27   23   13   12   20   \n",
      "2                            2         Aswini   18   27   23   23   12   20   \n",
      "3                            3           Arun   18   20   23   23   12   20   \n",
      "4                            4          Bhanu   18   27   23   23   12   20   \n",
      "..                         ...            ...  ...  ...  ...  ...  ...  ...   \n",
      "56                          56         Morgan   18   27   23   15   12   13   \n",
      "57                          57          Navya   18   27   23   23   12   20   \n",
      "58                          58        Nihansh   18   27   23   23   12   20   \n",
      "59                          59        praveen   18   27   23   23   12   20   \n",
      "60                          60       poojitha   18    0   23   23   12   20   \n",
      "\n",
      "    Dec  Jan  Feb  Mar  Apr  May totalattendence  Total Working Days  \\\n",
      "0    25   26   24   24   21    2               -                 245   \n",
      "1    25   26   24   24   21    2             235                 245   \n",
      "2    25   26   24   24   21    2             245                 245   \n",
      "3    22   25   24   24   21    2             234                 245   \n",
      "4    25   13   24   24   21    2             232                 245   \n",
      "..  ...  ...  ...  ...  ...  ...             ...                 ...   \n",
      "56   25   26   24   24   21    2             230                 245   \n",
      "57   25   26   24   24   21    2             245                 245   \n",
      "58   25   26   24   24   21    2             245                 245   \n",
      "59   25   26   24   24   21    2             245                 245   \n",
      "60   25   26   24   24   21    2             218                 245   \n",
      "\n",
      "             %  \n",
      "0   100.000000  \n",
      "1    95.918367  \n",
      "2   100.000000  \n",
      "3    95.510204  \n",
      "4    94.693878  \n",
      "..         ...  \n",
      "56   93.877551  \n",
      "57  100.000000  \n",
      "58  100.000000  \n",
      "59  100.000000  \n",
      "60   88.979592  \n",
      "\n",
      "[61 rows x 17 columns]\n"
     ]
    }
   ],
   "source": [
    "df_filled = df.fillna(0)\n",
    "print(\"\\nDataFrame with filled missing values:\")\n",
    "print(df_filled)"
   ]
  },
  {
   "cell_type": "code",
   "execution_count": 7,
   "id": "e75e811b",
   "metadata": {},
   "outputs": [
    {
     "name": "stdout",
     "output_type": "stream",
     "text": [
      "\n",
      "Basic Statistics:\n",
      "             Jun        Jul        Aug        Sep        Oct        Nov  \\\n",
      "count  61.000000  61.000000  61.000000  61.000000  61.000000  61.000000   \n",
      "mean   16.622951  24.885246  22.803279  22.360656  11.786885  19.885246   \n",
      "std     3.184148   5.394745   1.536443   3.109302   1.539640   0.896258   \n",
      "min     3.000000   0.000000  11.000000   2.000000   0.000000  13.000000   \n",
      "25%    17.000000  26.000000  23.000000  23.000000  12.000000  20.000000   \n",
      "50%    18.000000  27.000000  23.000000  23.000000  12.000000  20.000000   \n",
      "75%    18.000000  27.000000  23.000000  23.000000  12.000000  20.000000   \n",
      "max    18.000000  27.000000  23.000000  23.000000  12.000000  20.000000   \n",
      "\n",
      "             Dec        Jan   Feb        Mar        Apr   May  \\\n",
      "count  61.000000  61.000000  61.0  61.000000  61.000000  61.0   \n",
      "mean   24.508197  24.114754  24.0  23.852459  20.213115   2.0   \n",
      "std     3.222954   3.507603   0.0   1.435689   3.104377   0.0   \n",
      "min     0.000000  13.000000  24.0  13.000000   5.000000   2.0   \n",
      "25%    25.000000  24.000000  24.0  24.000000  21.000000   2.0   \n",
      "50%    25.000000  26.000000  24.0  24.000000  21.000000   2.0   \n",
      "75%    25.000000  26.000000  24.0  24.000000  21.000000   2.0   \n",
      "max    25.000000  26.000000  24.0  26.000000  21.000000   2.0   \n",
      "\n",
      "       Total Working Days           %  \n",
      "count                61.0   61.000000  \n",
      "mean                245.0   96.748076  \n",
      "std                   0.0    4.353508  \n",
      "min                 245.0   78.367347  \n",
      "25%                 245.0   95.102041  \n",
      "50%                 245.0   98.367347  \n",
      "75%                 245.0  100.000000  \n",
      "max                 245.0  100.000000  \n"
     ]
    }
   ],
   "source": [
    "print(\"\\nBasic Statistics:\")\n",
    "print(df.describe())"
   ]
  },
  {
   "cell_type": "code",
   "execution_count": 8,
   "id": "553e8e8d",
   "metadata": {},
   "outputs": [
    {
     "name": "stdout",
     "output_type": "stream",
     "text": [
      "\n",
      "Sorted DataFrame:\n",
      "                      Roll No. Student's Name  Jun  Jul  Aug  Sep  Oct  Nov  \\\n",
      "20                          20       Gabriel.   16    4   23    2   12   20   \n",
      "27                          27        Hudson.   17   27   23   23   12   20   \n",
      "9                            9     Charlotte.    6   27   23   23   12   20   \n",
      "26                          26        Harper.   12   26   23   23   12   20   \n",
      "60                          60       poojitha   18    0   23   23   12   20   \n",
      "..                         ...            ...  ...  ...  ...  ...  ...  ...   \n",
      "32                          32       Jackson.   18   27   23   23   12   20   \n",
      "59                          59        praveen   18   27   23   23   12   20   \n",
      "23                          23       Greyson.   18   27   23   23   12   20   \n",
      "49                          49           Leo.   18   27   23   23   12   20   \n",
      "0   Total monthly working days            NaN   18   27   23   23   12   20   \n",
      "\n",
      "    Dec  Jan  Feb  Mar  Apr  May totalattendence  Total Working Days  \\\n",
      "20   25   17   24   26   21    2             192                 245   \n",
      "27    0   19   24   24   21    2             212                 245   \n",
      "9    25   22   24   24    5    2             213                 245   \n",
      "26   25   16   24   13   21    2             217                 245   \n",
      "60   25   26   24   24   21    2             218                 245   \n",
      "..  ...  ...  ...  ...  ...  ...             ...                 ...   \n",
      "32   25   26   24   24   21    2             245                 245   \n",
      "59   25   26   24   24   21    2             245                 245   \n",
      "23   25   26   24   24   21    2             245                 245   \n",
      "49   25   26   24   24   21    2             245                 245   \n",
      "0    25   26   24   24   21    2               -                 245   \n",
      "\n",
      "             %  \n",
      "20   78.367347  \n",
      "27   86.530612  \n",
      "9    86.938776  \n",
      "26   88.571429  \n",
      "60   88.979592  \n",
      "..         ...  \n",
      "32  100.000000  \n",
      "59  100.000000  \n",
      "23  100.000000  \n",
      "49  100.000000  \n",
      "0   100.000000  \n",
      "\n",
      "[61 rows x 17 columns]\n"
     ]
    }
   ],
   "source": [
    "sorted_df = df.sort_values('%')#sorting\n",
    "print(\"\\nSorted DataFrame:\")\n",
    "print(sorted_df)"
   ]
  },
  {
   "cell_type": "code",
   "execution_count": 9,
   "id": "9511422c",
   "metadata": {},
   "outputs": [
    {
     "name": "stdout",
     "output_type": "stream",
     "text": [
      "\n",
      "Filtered DataFrame:\n",
      "   Roll No. Student's Name  Jun  Jul  Aug  Sep  Oct  Nov  Dec  Jan  Feb  Mar  \\\n",
      "9         9     Charlotte.    6   27   23   23   12   20   25   22   24   24   \n",
      "20       20       Gabriel.   16    4   23    2   12   20   25   17   24   26   \n",
      "26       26        Harper.   12   26   23   23   12   20   25   16   24   13   \n",
      "27       27        Hudson.   17   27   23   23   12   20    0   19   24   24   \n",
      "60       60       poojitha   18    0   23   23   12   20   25   26   24   24   \n",
      "\n",
      "    Apr  May totalattendence  Total Working Days          %  \n",
      "9     5    2             213                 245  86.938776  \n",
      "20   21    2             192                 245  78.367347  \n",
      "26   21    2             217                 245  88.571429  \n",
      "27   21    2             212                 245  86.530612  \n",
      "60   21    2             218                 245  88.979592  \n"
     ]
    }
   ],
   "source": [
    "filtered_df = df[df['%'] <90]#filtering\n",
    "print(\"\\nFiltered DataFrame:\")\n",
    "print(filtered_df)"
   ]
  },
  {
   "cell_type": "code",
   "execution_count": 10,
   "id": "fb47445a",
   "metadata": {},
   "outputs": [
    {
     "name": "stdout",
     "output_type": "stream",
     "text": [
      "\n",
      "Basic Statistics:\n",
      "            Jun        Jul   Aug        Sep   Oct   Nov       Dec        Jan  \\\n",
      "count   5.00000   5.000000   5.0   5.000000   5.0   5.0   5.00000   5.000000   \n",
      "mean   13.80000  16.800000  23.0  18.800000  12.0  20.0  20.00000  20.000000   \n",
      "std     4.91935  13.590438   0.0   9.391486   0.0   0.0  11.18034   4.062019   \n",
      "min     6.00000   0.000000  23.0   2.000000  12.0  20.0   0.00000  16.000000   \n",
      "25%    12.00000   4.000000  23.0  23.000000  12.0  20.0  25.00000  17.000000   \n",
      "50%    16.00000  26.000000  23.0  23.000000  12.0  20.0  25.00000  19.000000   \n",
      "75%    17.00000  27.000000  23.0  23.000000  12.0  20.0  25.00000  22.000000   \n",
      "max    18.00000  27.000000  23.0  23.000000  12.0  20.0  25.00000  26.000000   \n",
      "\n",
      "        Feb        Mar        Apr  May  Total Working Days          %  \n",
      "count   5.0   5.000000   5.000000  5.0                 5.0   5.000000  \n",
      "mean   24.0  22.200000  17.800000  2.0               245.0  85.877551  \n",
      "std     0.0   5.215362   7.155418  0.0                 0.0   4.325375  \n",
      "min    24.0  13.000000   5.000000  2.0               245.0  78.367347  \n",
      "25%    24.0  24.000000  21.000000  2.0               245.0  86.530612  \n",
      "50%    24.0  24.000000  21.000000  2.0               245.0  86.938776  \n",
      "75%    24.0  24.000000  21.000000  2.0               245.0  88.571429  \n",
      "max    24.0  26.000000  21.000000  2.0               245.0  88.979592  \n"
     ]
    }
   ],
   "source": [
    "print(\"\\nBasic Statistics:\")\n",
    "print(filtered_df.describe())"
   ]
  },
  {
   "cell_type": "code",
   "execution_count": 11,
   "id": "70754918",
   "metadata": {},
   "outputs": [
    {
     "name": "stdout",
     "output_type": "stream",
     "text": [
      "\n",
      "Grouped DataFrame:\n",
      "                   Jun        Jul   Aug   Sep        Oct   Nov        Dec  \\\n",
      "totalattendence                                                             \n",
      "192              16.00   4.000000  23.0   2.0  12.000000  20.0  25.000000   \n",
      "212              17.00  27.000000  23.0  23.0  12.000000  20.0   0.000000   \n",
      "213               6.00  27.000000  23.0  23.0  12.000000  20.0  25.000000   \n",
      "217              12.00  26.000000  23.0  23.0  12.000000  20.0  25.000000   \n",
      "218              18.00   0.000000  23.0  23.0  12.000000  20.0  25.000000   \n",
      "221              14.50  27.000000  17.0  23.0   6.000000  20.0  25.000000   \n",
      "224               9.00  26.000000  23.0  23.0  12.000000  20.0  25.000000   \n",
      "228              11.00  21.333333  23.0  23.0  12.000000  20.0  25.000000   \n",
      "230              18.00  27.000000  23.0  15.0  12.000000  13.0  25.000000   \n",
      "232              17.00  27.000000  23.0  23.0  11.666667  20.0  24.333333   \n",
      "233              18.00  15.000000  23.0  23.0  12.000000  20.0  25.000000   \n",
      "234              18.00  20.000000  23.0  23.0  12.000000  20.0  22.000000   \n",
      "235              13.00  27.000000  23.0  18.0  12.000000  20.0  25.000000   \n",
      "236              18.00  22.000000  23.0  23.0  12.000000  20.0  25.000000   \n",
      "237              17.50  27.000000  23.0  23.0  12.000000  20.0  25.000000   \n",
      "238              18.00  20.000000  23.0  23.0  12.000000  20.0  25.000000   \n",
      "239              18.00  26.000000  23.0  23.0  12.000000  20.0  25.000000   \n",
      "240              18.00  22.000000  23.0  23.0  12.000000  20.0  25.000000   \n",
      "241              16.00  26.000000  23.0  23.0  12.000000  20.0  25.000000   \n",
      "242              17.00  26.000000  23.0  23.0  12.000000  20.0  25.000000   \n",
      "243              18.00  26.333333  23.0  23.0  12.000000  20.0  25.000000   \n",
      "244              17.75  26.750000  23.0  23.0  12.000000  20.0  25.000000   \n",
      "245              18.00  27.000000  23.0  23.0  12.000000  20.0  25.000000   \n",
      "-                18.00  27.000000  23.0  23.0  12.000000  20.0  25.000000   \n",
      "\n",
      "                       Jan   Feb   Mar        Apr  May  Total Working Days  \\\n",
      "totalattendence                                                              \n",
      "192              17.000000  24.0  26.0  21.000000  2.0               245.0   \n",
      "212              19.000000  24.0  24.0  21.000000  2.0               245.0   \n",
      "213              22.000000  24.0  24.0   5.000000  2.0               245.0   \n",
      "217              16.000000  24.0  13.0  21.000000  2.0               245.0   \n",
      "218              26.000000  24.0  24.0  21.000000  2.0               245.0   \n",
      "221              25.000000  24.0  24.0  13.500000  2.0               245.0   \n",
      "224              26.000000  24.0  24.0  10.000000  2.0               245.0   \n",
      "228              22.333333  24.0  24.0  20.333333  2.0               245.0   \n",
      "230              26.000000  24.0  24.0  21.000000  2.0               245.0   \n",
      "232              15.000000  24.0  24.0  21.000000  2.0               245.0   \n",
      "233              26.000000  24.0  24.0  21.000000  2.0               245.0   \n",
      "234              25.000000  24.0  24.0  21.000000  2.0               245.0   \n",
      "235              26.000000  24.0  24.0  21.000000  2.0               245.0   \n",
      "236              22.000000  24.0  24.0  21.000000  2.0               245.0   \n",
      "237              18.500000  24.0  24.0  21.000000  2.0               245.0   \n",
      "238              26.000000  24.0  24.0  21.000000  2.0               245.0   \n",
      "239              21.000000  24.0  24.0  21.000000  2.0               245.0   \n",
      "240              26.000000  24.0  24.0  21.000000  2.0               245.0   \n",
      "241              25.000000  24.0  24.0  21.000000  2.0               245.0   \n",
      "242              26.000000  24.0  24.0  20.000000  2.0               245.0   \n",
      "243              24.666667  24.0  24.0  21.000000  2.0               245.0   \n",
      "244              25.750000  24.0  24.0  20.750000  2.0               245.0   \n",
      "245              26.000000  24.0  24.0  21.000000  2.0               245.0   \n",
      "-                26.000000  24.0  24.0  21.000000  2.0               245.0   \n",
      "\n",
      "                          %  \n",
      "totalattendence              \n",
      "192               78.367347  \n",
      "212               86.530612  \n",
      "213               86.938776  \n",
      "217               88.571429  \n",
      "218               88.979592  \n",
      "221               90.204082  \n",
      "224               91.428571  \n",
      "228               93.061224  \n",
      "230               93.877551  \n",
      "232               94.693878  \n",
      "233               95.102041  \n",
      "234               95.510204  \n",
      "235               95.918367  \n",
      "236               96.326531  \n",
      "237               96.734694  \n",
      "238               97.142857  \n",
      "239               97.551020  \n",
      "240               97.959184  \n",
      "241               98.367347  \n",
      "242               98.775510  \n",
      "243               99.183673  \n",
      "244               99.591837  \n",
      "245              100.000000  \n",
      "-                100.000000  \n"
     ]
    },
    {
     "name": "stderr",
     "output_type": "stream",
     "text": [
      "C:\\Users\\DELL\\AppData\\Local\\Temp\\ipykernel_3892\\47505150.py:1: FutureWarning: The default value of numeric_only in DataFrameGroupBy.mean is deprecated. In a future version, numeric_only will default to False. Either specify numeric_only or select only columns which should be valid for the function.\n",
      "  grouped_df = df.groupby('totalattendence').mean()\n"
     ]
    }
   ],
   "source": [
    "grouped_df = df.groupby('totalattendence').mean()\n",
    "print(\"\\nGrouped DataFrame:\")\n",
    "print(grouped_df)"
   ]
  },
  {
   "cell_type": "code",
   "execution_count": null,
   "id": "c941c0fa",
   "metadata": {},
   "outputs": [],
   "source": [
    "#Data visualization using Matplotlib \n",
    "#bar graph ,scatterplot,histogram"
   ]
  },
  {
   "cell_type": "code",
   "execution_count": 12,
   "id": "1257e352",
   "metadata": {},
   "outputs": [
    {
     "data": {
      "text/plain": [
       "<BarContainer object of 61 artists>"
      ]
     },
     "execution_count": 12,
     "metadata": {},
     "output_type": "execute_result"
    },
    {
     "data": {
      "image/png": "[encoded data removed]",
      "text/plain": [
       "<Figure size 640x480 with 1 Axes>"
      ]
     },
     "metadata": {},
     "output_type": "display_data"
    }
   ],
   "source": [
    "import pandas as pd\n",
    "import matplotlib.pyplot as plt\n",
    "plt.bar(df[\"Jun\"],df[\"%\"])\n",
    "plt.bar(df[\"Aug\"],df[\"%\"])\n",
    "plt.bar(df[\"Sep\"],df[\"%\"])\n",
    "plt.bar(df[\"Nov\"],df[\"%\"])\n",
    "plt.bar(df[\"Jan\"],df[\"%\"])\n",
    "plt.bar(df[\"Mar\"],df[\"%\"])\n",
    "plt.bar(df[\"May\"],df[\"%\"])"
   ]
  },
  {
   "cell_type": "code",
   "execution_count": 13,
   "id": "cd91b0ae",
   "metadata": {},
   "outputs": [
    {
     "data": {
      "text/plain": [
       "<matplotlib.collections.PathCollection at 0x23c3b84f550>"
      ]
     },
     "execution_count": 13,
     "metadata": {},
     "output_type": "execute_result"
    },
    {
     "data": {
      "image/png": "[encoded data removed]",
      "text/plain": [
       "<Figure size 640x480 with 1 Axes>"
      ]
     },
     "metadata": {},
     "output_type": "display_data"
    }
   ],
   "source": [
    "plt.scatter(df[\"Jun\"],df[\"May\"],c=\"black\")\n",
    "plt.scatter(df[\"Jul\"],df[\"Apr\"],c=\"yellow\")\n",
    "plt.scatter(df[\"Aug\"],df[\"Mar\"],c=\"pink\")\n",
    "plt.scatter(df[\"Sep\"],df[\"Feb\"],c=\"red\")\n",
    "plt.scatter(df[\"Oct\"],df[\"Jan\"],c=\"blue\")\n",
    "plt.scatter(df[\"Nov\"],df[\"Dec\"],c=\"green\")"
   ]
  },
  {
   "cell_type": "code",
   "execution_count": 14,
   "id": "b93d5c42",
   "metadata": {},
   "outputs": [
    {
     "data": {
      "text/plain": [
       "(array([ 1.,  0.,  0.,  0.,  0.,  0.,  0.,  0.,  0.,  0.,  0.,  2.,  0.,\n",
       "         0.,  2.,  0.,  2.,  0.,  1.,  0.,  3.,  1.,  3.,  3.,  3.,  2.,\n",
       "         3.,  5.,  6., 24.]),\n",
       " array([ 78.36734694,  79.08843537,  79.80952381,  80.53061224,\n",
       "         81.25170068,  81.97278912,  82.69387755,  83.41496599,\n",
       "         84.13605442,  84.85714286,  85.57823129,  86.29931973,\n",
       "         87.02040816,  87.7414966 ,  88.46258503,  89.18367347,\n",
       "         89.9047619 ,  90.62585034,  91.34693878,  92.06802721,\n",
       "         92.78911565,  93.51020408,  94.23129252,  94.95238095,\n",
       "         95.67346939,  96.39455782,  97.11564626,  97.83673469,\n",
       "         98.55782313,  99.27891156, 100.        ]),\n",
       " <BarContainer object of 30 artists>)"
      ]
     },
     "execution_count": 14,
     "metadata": {},
     "output_type": "execute_result"
    },
    {
     "data": {
      "image/png": "[encoded data removed]",
      "text/plain": [
       "<Figure size 640x480 with 1 Axes>"
      ]
     },
     "metadata": {},
     "output_type": "display_data"
    }
   ],
   "source": [
    "plt.hist(df[\"%\"], bins=30)"
   ]
  },
  {
   "cell_type": "code",
   "execution_count": null,
   "id": "dbcad04b",
   "metadata": {},
   "outputs": [],
   "source": [
    "#Data visualization using SEABORN"
   ]
  },
  {
   "cell_type": "code",
   "execution_count": 15,
   "id": "c1c5eb99",
   "metadata": {},
   "outputs": [
    {
     "data": {
      "text/plain": [
       "<BarContainer object of 61 artists>"
      ]
     },
     "execution_count": 15,
     "metadata": {},
     "output_type": "execute_result"
    },
    {
     "data": {
      "image/png": "[encoded data removed]",
      "text/plain": [
       "<Figure size 640x480 with 1 Axes>"
      ]
     },
     "metadata": {},
     "output_type": "display_data"
    }
   ],
   "source": [
    "import seaborn as sns\n",
    "sns.set()\n",
    "plt.bar(df[\"Jun\"],df[\"%\"])\n",
    "plt.bar(df[\"Aug\"],df[\"%\"])\n",
    "plt.bar(df[\"Sep\"],df[\"%\"])\n",
    "plt.bar(df[\"Nov\"],df[\"%\"])\n",
    "plt.bar(df[\"Jan\"],df[\"%\"])\n",
    "plt.bar(df[\"Mar\"],df[\"%\"])\n",
    "plt.bar(df[\"May\"],df[\"%\"])"
   ]
  },
  {
   "cell_type": "code",
   "execution_count": 16,
   "id": "d636a83f",
   "metadata": {},
   "outputs": [
    {
     "data": {
      "text/plain": [
       "<matplotlib.collections.PathCollection at 0x23c3dec2ad0>"
      ]
     },
     "execution_count": 16,
     "metadata": {},
     "output_type": "execute_result"
    },
    {
     "data": {
      "image/png": "[encoded data removed]",
      "text/plain": [
       "<Figure size 640x480 with 1 Axes>"
      ]
     },
     "metadata": {},
     "output_type": "display_data"
    }
   ],
   "source": [
    "plt.scatter(df[\"Jun\"],df[\"May\"],c=\"black\")\n",
    "plt.scatter(df[\"Jul\"],df[\"Apr\"],c=\"yellow\")\n",
    "plt.scatter(df[\"Aug\"],df[\"Mar\"],c=\"pink\")\n",
    "plt.scatter(df[\"Sep\"],df[\"Feb\"],c=\"red\")\n",
    "plt.scatter(df[\"Oct\"],df[\"Jan\"],c=\"blue\")\n",
    "plt.scatter(df[\"Nov\"],df[\"Dec\"],c=\"green\")"
   ]
  },
  {
   "cell_type": "code",
   "execution_count": 17,
   "id": "ae133de2",
   "metadata": {},
   "outputs": [
    {
     "data": {
      "text/plain": [
       "(array([ 1.,  0.,  0.,  0.,  0.,  0.,  0.,  0.,  0.,  0.,  0.,  2.,  0.,\n",
       "         0.,  2.,  0.,  2.,  0.,  1.,  0.,  3.,  1.,  3.,  3.,  3.,  2.,\n",
       "         3.,  5.,  6., 24.]),\n",
       " array([ 78.36734694,  79.08843537,  79.80952381,  80.53061224,\n",
       "         81.25170068,  81.97278912,  82.69387755,  83.41496599,\n",
       "         84.13605442,  84.85714286,  85.57823129,  86.29931973,\n",
       "         87.02040816,  87.7414966 ,  88.46258503,  89.18367347,\n",
       "         89.9047619 ,  90.62585034,  91.34693878,  92.06802721,\n",
       "         92.78911565,  93.51020408,  94.23129252,  94.95238095,\n",
       "         95.67346939,  96.39455782,  97.11564626,  97.83673469,\n",
       "         98.55782313,  99.27891156, 100.        ]),\n",
       " <BarContainer object of 30 artists>)"
      ]
     },
     "execution_count": 17,
     "metadata": {},
     "output_type": "execute_result"
    },
    {
     "data": {
      "image/png": "[encoded data removed]",
      "text/plain": [
       "<Figure size 640x480 with 1 Axes>"
      ]
     },
     "metadata": {},
     "output_type": "display_data"
    }
   ],
   "source": [
    "plt.hist(df[\"%\"], bins=30)"
   ]
  },
  {
   "cell_type": "code",
   "execution_count": 18,
   "id": "3a78f225",
   "metadata": {},
   "outputs": [
    {
     "name": "stdout",
     "output_type": "stream",
     "text": [
      "\n",
      " Statistics:\n",
      "             Jun        Jul        Aug        Sep        Oct        Nov  \\\n",
      "count  61.000000  61.000000  61.000000  61.000000  61.000000  61.000000   \n",
      "mean   16.622951  24.885246  22.803279  22.360656  11.786885  19.885246   \n",
      "std     3.184148   5.394745   1.536443   3.109302   1.539640   0.896258   \n",
      "min     3.000000   0.000000  11.000000   2.000000   0.000000  13.000000   \n",
      "25%    17.000000  26.000000  23.000000  23.000000  12.000000  20.000000   \n",
      "50%    18.000000  27.000000  23.000000  23.000000  12.000000  20.000000   \n",
      "75%    18.000000  27.000000  23.000000  23.000000  12.000000  20.000000   \n",
      "max    18.000000  27.000000  23.000000  23.000000  12.000000  20.000000   \n",
      "\n",
      "             Dec        Jan   Feb        Mar        Apr   May  \\\n",
      "count  61.000000  61.000000  61.0  61.000000  61.000000  61.0   \n",
      "mean   24.508197  24.114754  24.0  23.852459  20.213115   2.0   \n",
      "std     3.222954   3.507603   0.0   1.435689   3.104377   0.0   \n",
      "min     0.000000  13.000000  24.0  13.000000   5.000000   2.0   \n",
      "25%    25.000000  24.000000  24.0  24.000000  21.000000   2.0   \n",
      "50%    25.000000  26.000000  24.0  24.000000  21.000000   2.0   \n",
      "75%    25.000000  26.000000  24.0  24.000000  21.000000   2.0   \n",
      "max    25.000000  26.000000  24.0  26.000000  21.000000   2.0   \n",
      "\n",
      "       Total Working Days           %  \n",
      "count                61.0   61.000000  \n",
      "mean                245.0   96.748076  \n",
      "std                   0.0    4.353508  \n",
      "min                 245.0   78.367347  \n",
      "25%                 245.0   95.102041  \n",
      "50%                 245.0   98.367347  \n",
      "75%                 245.0  100.000000  \n",
      "max                 245.0  100.000000  \n"
     ]
    }
   ],
   "source": [
    "#Summary statistics\n",
    "print(\"\\n Statistics:\")\n",
    "print(df.describe())"
   ]
  },
  {
   "cell_type": "code",
   "execution_count": null,
   "id": "e9a95183",
   "metadata": {},
   "outputs": [],
   "source": [
    "#Visualization on overall data"
   ]
  },
  {
   "cell_type": "code",
   "execution_count": 19,
   "id": "0b904623",
   "metadata": {},
   "outputs": [
    {
     "data": {
      "text/plain": [
       "<Axes: >"
      ]
     },
     "execution_count": 19,
     "metadata": {},
     "output_type": "execute_result"
    },
    {
     "data": {
      "image/png": "[encoded data removed]",
      "text/plain": [
       "<Figure size 640x480 with 1 Axes>"
      ]
     },
     "metadata": {},
     "output_type": "display_data"
    }
   ],
   "source": [
    "df.plot()"
   ]
  },
  {
   "cell_type": "code",
   "execution_count": null,
   "id": "e1410ecf",
   "metadata": {},
   "outputs": [],
   "source": []
  }
 ],
 "metadata": {
  "kernelspec": {
   "display_name": "Python 3 (ipykernel)",
   "language": "python",
   "name": "python3"
  },
  "language_info": {
   "codemirror_mode": {
    "name": "ipython",
    "version": 3
   },
   "file_extension": ".py",
   "mimetype": "text/x-python",
   "name": "python",
   "nbconvert_exporter": "python",
   "pygments_lexer": "ipython3",
   "version": "3.10.9"
  }
 },
 "nbformat": 4,
 "nbformat_minor": 5
}
